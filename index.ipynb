{
 "cells": [
  {
   "cell_type": "markdown",
   "metadata": {},
   "source": [
    "# Orthogonalizing Variables in a Regression"
   ]
  },
  {
   "cell_type": "markdown",
   "metadata": {},
   "source": [
    "Say we want to include two correlated variables as explanatory variables in a regression.  Doing this causes =multicollinearity=, which does not bias coefficients however does increase coefficient standard errors. Note, you can for excessive multicollinearity with variance inflation factors.  To remove the correlation between the variables we can use a process refered to as /orthogonalization/ in the finance literature.  We describe this process in the example below.\n"
   ]
  },
  {
   "cell_type": "code",
   "execution_count": 2,
   "metadata": {},
   "outputs": [],
   "source": [
    "import yfinance as yf"
   ]
  },
  {
   "cell_type": "code",
   "execution_count": 5,
   "metadata": {},
   "outputs": [
    {
     "name": "stderr",
     "output_type": "stream",
     "text": [
      "Failed to get ticker 'SPY' reason: HTTPSConnectionPool(host='fc.yahoo.com', port=443): Max retries exceeded with url: / (Caused by NewConnectionError('<urllib3.connection.HTTPSConnection object at 0x118578560>: Failed to establish a new connection: [Errno 61] Connection refused'))\n",
      "$SPY: possibly delisted; no price data found  (period=1mo)\n",
      "Failed to get ticker 'USO' reason: HTTPSConnectionPool(host='fc.yahoo.com', port=443): Max retries exceeded with url: / (Caused by NewConnectionError('<urllib3.connection.HTTPSConnection object at 0x118579850>: Failed to establish a new connection: [Errno 61] Connection refused'))\n",
      "$USO: possibly delisted; no price data found  (period=1mo)\n",
      "Failed to get ticker 'UNG' reason: HTTPSConnectionPool(host='fc.yahoo.com', port=443): Max retries exceeded with url: / (Caused by NewConnectionError('<urllib3.connection.HTTPSConnection object at 0x118559760>: Failed to establish a new connection: [Errno 61] Connection refused'))\n",
      "$UNG: possibly delisted; no price data found  (period=1mo)\n"
     ]
    }
   ],
   "source": [
    "spy = yf.Ticker(\"SPY\")\n",
    "uso = yf.Ticker(\"USO\")\n",
    "ung = yf.Ticker(\"UNG\")\n",
    "\n",
    "market = spy.history()\n",
    "oil = uso.history()\n",
    "ng = ung.history()"
   ]
  }
 ],
 "metadata": {
  "kernelspec": {
   "display_name": "Python 3",
   "language": "python",
   "name": "python3"
  },
  "language_info": {
   "codemirror_mode": {
    "name": "ipython",
    "version": 3
   },
   "file_extension": ".py",
   "mimetype": "text/x-python",
   "name": "python",
   "nbconvert_exporter": "python",
   "pygments_lexer": "ipython3",
   "version": "3.12.4"
  }
 },
 "nbformat": 4,
 "nbformat_minor": 2
}
